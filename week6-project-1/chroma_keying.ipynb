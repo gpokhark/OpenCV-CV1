{
 "cells": [
  {
   "cell_type": "code",
   "execution_count": 1,
   "metadata": {},
   "outputs": [],
   "source": [
    "import cv2\n",
    "import numpy as np\n",
    "import matplotlib.pyplot as plt\n",
    "%matplotlib inline"
   ]
  },
  {
   "cell_type": "code",
   "execution_count": 2,
   "metadata": {},
   "outputs": [],
   "source": [
    "# Video capture object\n",
    "cap = cv2.VideoCapture('./greenscreen-asteroid.mp4')\n",
    "if(cap.isOpened() == False):\n",
    "    print(\"Error opening video stream or file\")\n",
    "\n",
    "# read in the first frame\n",
    "ret, frame = cap.read()\n",
    "\n",
    "# save the first frame as png image for trial\n",
    "# cv2.imwrite('greenscreen.png', frame)\n",
    "\n",
    "\n",
    "# Read until video is completed\n",
    "k = 0\n",
    "while(cap.isOpened()):\n",
    "    # Capture frame-by-frame\n",
    "    ret, frame = cap.read()\n",
    "\n",
    "    if ret == True and k != 27:\n",
    "        cv2.imshow(\"Video Output\", frame)    \n",
    "        # Wait for 25 ms before moving on to the next frame\n",
    "        # This will slow down the video\n",
    "        k = cv2.waitKey(25)\n",
    "\n",
    "    # Break the loop\n",
    "    else:\n",
    "        cv2.destroyAllWindows()\n",
    "        break"
   ]
  },
  {
   "cell_type": "code",
   "execution_count": 3,
   "metadata": {},
   "outputs": [],
   "source": [
    "def on_mouse(event, x, y, flags, image):\n",
    "    if event == cv2.EVENT_LBUTTONDOWN or event == cv2.EVENT_RBUTTONDOWN:\n",
    "        pt = (x, y)\n",
    "        \n",
    "        # Getting the values of BGR at y, x\n",
    "        # Hence shape is (3,)\n",
    "        color = image[y, x, :]\n",
    "        \n",
    "        # Converting it to an image of shape (1,1,3)\n",
    "        color = np.full((1,1,3), image[y,x], dtype = np.uint8)\n",
    "        \n",
    "        k = 0\n",
    "        while (k != 27):\n",
    "            cv2.imshow(\"Picked Color\", color)\n",
    "            k = cv2.waitKey(20)\n",
    "        \n",
    "        if k == 27:\n",
    "            cv2.destroyWindow(\"Picked Color\")"
   ]
  },
  {
   "cell_type": "code",
   "execution_count": 4,
   "metadata": {},
   "outputs": [],
   "source": [
    "# read in the image\n",
    "image = cv2.imread(\"./greenscreen.png\")\n",
    "\n",
    "cv2.namedWindow(\"Image\")\n",
    "\n",
    "cv2.setMouseCallback(\"Image\", on_mouse, image)\n",
    "\n",
    "# Creating trackbar for color\n",
    "# cv2.createTrackbar(\"\")\n",
    "\n",
    "k = 0\n",
    "while (k != 27):\n",
    "    cv2.imshow(\"Image\", image)\n",
    "    k = cv2.waitKey(20)\n",
    "if k == 27:\n",
    "    cv2.destroyWindow(\"Image\")"
   ]
  },
  {
   "cell_type": "code",
   "execution_count": null,
   "metadata": {},
   "outputs": [],
   "source": []
  }
 ],
 "metadata": {
  "kernelspec": {
   "display_name": "Python 3",
   "language": "python",
   "name": "python3"
  },
  "language_info": {
   "codemirror_mode": {
    "name": "ipython",
    "version": 3
   },
   "file_extension": ".py",
   "mimetype": "text/x-python",
   "name": "python",
   "nbconvert_exporter": "python",
   "pygments_lexer": "ipython3",
   "version": "3.7.7"
  }
 },
 "nbformat": 4,
 "nbformat_minor": 4
}
