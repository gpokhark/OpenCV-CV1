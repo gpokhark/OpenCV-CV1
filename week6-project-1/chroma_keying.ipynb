{
 "cells": [
  {
   "cell_type": "markdown",
   "metadata": {},
   "source": [
    "# Working on videos"
   ]
  },
  {
   "cell_type": "code",
   "execution_count": 1,
   "metadata": {},
   "outputs": [],
   "source": [
    "import cv2\n",
    "import numpy as np\n",
    "import matplotlib.pyplot as plt\n",
    "%matplotlib inline"
   ]
  },
  {
   "cell_type": "code",
   "execution_count": 4,
   "metadata": {},
   "outputs": [],
   "source": [
    "color = np.zeros((1, 1, 3))\n",
    "\n",
    "def nothing(*args):\n",
    "    pass\n",
    "\n",
    "# Video capture object\n",
    "cap = cv2.VideoCapture('./greenscreen-asteroid.mp4')\n",
    "if(cap.isOpened() == False):\n",
    "    print(\"Error opening video stream or file\")\n",
    "\n",
    "# Background replacement Image\n",
    "bgImage = cv2.imread('./avengers.jpg')\n",
    "\n",
    "# read in the first frame\n",
    "ret, frame = cap.read()\n",
    "\n",
    "# save the first frame as png image for trial\n",
    "# cv2.imwrite('greenscreen.png', frame)\n",
    "\n",
    "cv2.namedWindow(\"Input Video\")\n",
    "\n",
    "cv2.createTrackbar(\"lowH\", \"Input Video\", 0, 179, nothing)\n",
    "cv2.createTrackbar(\"upH\", \"Input Video\", 179, 179, nothing)\n",
    "\n",
    "cv2.createTrackbar(\"lowS\", \"Input Video\", 0, 255, nothing)\n",
    "cv2.createTrackbar(\"upS\", \"Input Video\", 255, 255, nothing)\n",
    "\n",
    "cv2.createTrackbar(\"lowV\", \"Input Video\", 0, 255, nothing)\n",
    "cv2.createTrackbar(\"upV\", \"Input Video\", 255, 255, nothing)\n",
    "\n",
    "\n",
    "\n",
    "# Read until video is completed\n",
    "k = 0\n",
    "# start from 1 instead of 0 so that last frame is not empty\n",
    "frameCounter = 0\n",
    "\n",
    "while(True):\n",
    "    # Capture frame-by-frame\n",
    "    ret, frame = cap.read()\n",
    "    \n",
    "    # to play the video in loop\n",
    "    if (ret == False):\n",
    "        cap.set(cv2.CAP_PROP_POS_AVI_RATIO, 0);\n",
    "        continue;\n",
    "    \n",
    "    if ret == True and k != 27:\n",
    "        \n",
    "        hsvFrame = cv2.cvtColor(frame, cv2.COLOR_BGR2HSV)\n",
    "        \n",
    "        lowH = cv2.getTrackbarPos(\"lowH\", \"Input Video\")\n",
    "        upH = cv2.getTrackbarPos(\"upH\", \"Input Video\")\n",
    "        \n",
    "        lowS = cv2.getTrackbarPos(\"lowS\", \"Input Video\")\n",
    "        upS = cv2.getTrackbarPos(\"upS\", \"Input Video\")\n",
    "        \n",
    "        lowV = cv2.getTrackbarPos(\"lowS\", \"Input Video\")\n",
    "        upV = cv2.getTrackbarPos(\"upS\", \"Input Video\")\n",
    "        \n",
    "        lowGreen = np.array([lowH, lowS, lowV])\n",
    "        upGreen = np.array([upH, upS, upV])\n",
    "        \n",
    "        mask = cv2.inRange(hsvFrame, lowGreen, upGreen)\n",
    "        maskInv = cv2.bitwise_not(mask)\n",
    "        \n",
    "        # Gaussian blur on the mask\n",
    "#         cv2.GaussianBlur()\n",
    "        \n",
    "        background = cv2.bitwise_and(frame, frame, mask = mask)\n",
    "        foreground = cv2.bitwise_and(frame, frame, mask = maskInv)\n",
    "        \n",
    "        bgImageMod = cv2.bitwise_and(bgImage, bgImage, mask = mask)\n",
    "        # bgImage + foreground\n",
    "        outputFrame = cv2.bitwise_or(bgImageMod, foreground)\n",
    "        \n",
    "        cv2.imshow(\"Input Video\", outputFrame)\n",
    "        \n",
    "        cv2.imshow(\"Background\", background)\n",
    "        cv2.imshow(\"Foreground\", foreground)\n",
    "        # Wait for 25 ms before moving on to the next frame\n",
    "        # This will slow down the video\n",
    "        k = cv2.waitKey(25)\n",
    "\n",
    "    # Break the loop\n",
    "    if k == 27:\n",
    "        cv2.destroyAllWindows()\n",
    "        cap.release()\n",
    "        break"
   ]
  },
  {
   "cell_type": "code",
   "execution_count": 3,
   "metadata": {},
   "outputs": [
    {
     "ename": "NameError",
     "evalue": "name 'xxxxxxxxxxxxxxxxxxxxxxxxxxx' is not defined",
     "output_type": "error",
     "traceback": [
      "\u001b[0;31m---------------------------------------------------------------------------\u001b[0m",
      "\u001b[0;31mNameError\u001b[0m                                 Traceback (most recent call last)",
      "\u001b[0;32m<ipython-input-3-aaf9d0049fd1>\u001b[0m in \u001b[0;36m<module>\u001b[0;34m\u001b[0m\n\u001b[0;32m----> 1\u001b[0;31m \u001b[0mxxxxxxxxxxxxxxxxxxxxxxxxxxx\u001b[0m\u001b[0;34m\u001b[0m\u001b[0;34m\u001b[0m\u001b[0m\n\u001b[0m",
      "\u001b[0;31mNameError\u001b[0m: name 'xxxxxxxxxxxxxxxxxxxxxxxxxxx' is not defined"
     ]
    }
   ],
   "source": [
    "xxxxxxxxxxxxxxxxxxxxxxxxxxx"
   ]
  },
  {
   "cell_type": "markdown",
   "metadata": {},
   "source": [
    "# Working on a image"
   ]
  },
  {
   "cell_type": "code",
   "execution_count": null,
   "metadata": {},
   "outputs": [],
   "source": [
    "import cv2\n",
    "import numpy as np\n",
    "import matplotlib.pyplot as plt\n",
    "%matplotlib inline"
   ]
  },
  {
   "cell_type": "code",
   "execution_count": null,
   "metadata": {},
   "outputs": [],
   "source": [
    "def on_mouseImage(event, x, y, flags, image):\n",
    "    if event == cv2.EVENT_LBUTTONDOWN or event == cv2.EVENT_RBUTTONDOWN:\n",
    "        pt = (x, y)\n",
    "        \n",
    "        # Getting the values of BGR at y, x\n",
    "        # Hence shape is (3,)\n",
    "        color = image[y, x, :]\n",
    "        \n",
    "        # Converting it to an image of shape (1,1,3)\n",
    "        color = np.full((1,1,3), image[y,x], dtype = np.uint8)\n",
    "        \n",
    "        k = 0\n",
    "        while (k != 27):\n",
    "            cv2.imshow(\"Picked Color\", color)\n",
    "            k = cv2.waitKey(20)\n",
    "        \n",
    "        if k == 27:\n",
    "            cv2.destroyWindow(\"Picked Color\")"
   ]
  },
  {
   "cell_type": "code",
   "execution_count": null,
   "metadata": {},
   "outputs": [],
   "source": [
    "# read in the image\n",
    "image = cv2.imread(\"./greenscreen.png\")\n",
    "print(image.shape)\n",
    "\n",
    "cv2.namedWindow(\"Image\")\n",
    "\n",
    "cv2.setMouseCallback(\"Image\", on_mouseImage, image)\n",
    "\n",
    "# Creating trackbar for color\n",
    "# cv2.createTrackbar(\"\")\n",
    "\n",
    "k = 0\n",
    "while (k != 27):\n",
    "    cv2.imshow(\"Image\", image)\n",
    "    k = cv2.waitKey(20)\n",
    "if k == 27:\n",
    "    cv2.destroyWindow(\"Image\")"
   ]
  },
  {
   "cell_type": "code",
   "execution_count": null,
   "metadata": {},
   "outputs": [],
   "source": []
  }
 ],
 "metadata": {
  "kernelspec": {
   "display_name": "Python 3",
   "language": "python",
   "name": "python3"
  },
  "language_info": {
   "codemirror_mode": {
    "name": "ipython",
    "version": 3
   },
   "file_extension": ".py",
   "mimetype": "text/x-python",
   "name": "python",
   "nbconvert_exporter": "python",
   "pygments_lexer": "ipython3",
   "version": "3.7.7"
  }
 },
 "nbformat": 4,
 "nbformat_minor": 4
}
