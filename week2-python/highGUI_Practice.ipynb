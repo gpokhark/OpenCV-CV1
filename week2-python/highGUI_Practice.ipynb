{
 "cells": [
  {
   "cell_type": "markdown",
   "metadata": {},
   "source": [
    "# Use the Keyboard with OpenCV"
   ]
  },
  {
   "cell_type": "code",
   "execution_count": 1,
   "metadata": {},
   "outputs": [],
   "source": [
    "import pyrealsense2 as rs\n",
    "import cv2\n",
    "import numpy as np\n",
    "from dataPath import DATA_PATH\n",
    "import matplotlib.pyplot as plt\n",
    "%matplotlib inline"
   ]
  },
  {
   "cell_type": "code",
   "execution_count": 2,
   "metadata": {},
   "outputs": [],
   "source": [
    "# Configure color stream \n",
    "pipeline = rs.pipeline()\n",
    "config = rs.config()\n",
    "config.enable_stream(rs.stream.color, 1280, 720, rs.format.bgr8, 30)\n",
    "\n",
    "# Start streaming\n",
    "pipeline.start(config)\n",
    "\n",
    "try:\n",
    "    k = 0\n",
    "    while True:\n",
    "        frames = pipeline.wait_for_frames()\n",
    "        color_frame = frames.get_color_frame()\n",
    "        if not color_frame:\n",
    "            continue\n",
    "        \n",
    "        # Convert images to numpy arrays\n",
    "        color_image = np.asanyarray(color_frame.get_data())\n",
    "        \n",
    "        # code until this line is equal to following lines\n",
    "        # cap = cv2.VideoCapture(0)\n",
    "        # ret, frame = cap.read()\n",
    "        # frame is cv::Mat format\n",
    "        # frame = color_image\n",
    "        \n",
    "        # identify if 'ESC' is pressed or not\n",
    "        if(k == 27):\n",
    "            break\n",
    "        \n",
    "        # Identify if 'e' or 'E' is pressed\n",
    "        if(k == 101 or k == 69):\n",
    "            cv2.putText(color_image, \"E is pressed, press Z or ESC\",\n",
    "                        (100, 180), cv2.FONT_HERSHEY_SIMPLEX,\n",
    "                        1, (0, 255, 0), 3);\n",
    "        \n",
    "            \n",
    "        # Identify if z or Z is pressed\n",
    "        if(k == 90 or k == 122):\n",
    "            cv2.putText(color_image, \"Z is pressed, press E or ESC\",\n",
    "                       (100, 180), cv2.FONT_HERSHEY_SIMPLEX,\n",
    "                       1, (255, 0, 0), 3)\n",
    "        \n",
    "        \n",
    "        \n",
    "        # Show images\n",
    "        cv2.namedWindow('RealSense', cv2.WINDOW_AUTOSIZE)\n",
    "        cv2.imshow('RealSense', color_image)\n",
    "        k = cv2.waitKey(10000) & 0xff\n",
    "        \n",
    "finally:\n",
    "    # Stop streaming\n",
    "    cv2.destroyAllWindows()\n",
    "    pipeline.stop()"
   ]
  },
  {
   "cell_type": "markdown",
   "metadata": {},
   "source": [
    "# Use Mouse with OpenCV"
   ]
  },
  {
   "cell_type": "code",
   "execution_count": 3,
   "metadata": {},
   "outputs": [],
   "source": [
    "import cv2\n",
    "import pyrealsense2 as rs\n",
    "import numpy as np\n",
    "from dataPath import DATA_PATH\n",
    "import matplotlib.pyplot as plt\n",
    "import math\n",
    "%matplotlib inline"
   ]
  },
  {
   "cell_type": "code",
   "execution_count": 4,
   "metadata": {},
   "outputs": [],
   "source": [
    "# Lists to store the points\n",
    "center = []\n",
    "circumference = []"
   ]
  },
  {
   "cell_type": "code",
   "execution_count": 5,
   "metadata": {},
   "outputs": [],
   "source": [
    "def drawCircle(action, x, y, flags, userdata):\n",
    "    # Referencing global variables \n",
    "    global center, circumference\n",
    "    # Action to be taken when left mouse button is pressed\n",
    "    if action == cv2.EVENT_LBUTTONDOWN:\n",
    "        center = [(x, y)]\n",
    "        # Mark the center\n",
    "        cv2.circle(source, center[0], 1, (255, 255, 0), 2, cv2.LINE_AA)\n",
    "        \n",
    "    # Action to be taken when left mouse button is released\n",
    "    elif action == cv2.EVENT_LBUTTONUP:\n",
    "        circumference = [(x, y)]\n",
    "        # Calculate the radius\n",
    "        radius = math.sqrt(math.pow(center[0][0] - circumference[0][0], 2) +\n",
    "                          math.pow(center[0][1] - circumference[0][1], 2))\n",
    "        \n",
    "        # Draw the circle\n",
    "        cv2.circle(source, center[0], int(radius), (0,255, 0), 2, cv2.LINE_AA)\n",
    "        \n",
    "        cv2.imshow(\"Window\", source)"
   ]
  }
 ],
 "metadata": {
  "kernelspec": {
   "display_name": "Python 3",
   "language": "python",
   "name": "python3"
  },
  "language_info": {
   "codemirror_mode": {
    "name": "ipython",
    "version": 3
   },
   "file_extension": ".py",
   "mimetype": "text/x-python",
   "name": "python",
   "nbconvert_exporter": "python",
   "pygments_lexer": "ipython3",
   "version": "3.7.7"
  }
 },
 "nbformat": 4,
 "nbformat_minor": 4
}
