{
 "cells": [
  {
   "cell_type": "markdown",
   "metadata": {},
   "source": [
    "# Face Annotation Tool"
   ]
  },
  {
   "cell_type": "code",
   "execution_count": 1,
   "metadata": {},
   "outputs": [],
   "source": [
    "import cv2\n",
    "import math"
   ]
  },
  {
   "cell_type": "code",
   "execution_count": 7,
   "metadata": {},
   "outputs": [],
   "source": [
    "# List store points\n",
    "TopLeft = []\n",
    "BottomRight = []\n",
    "\n",
    "\n",
    "# crop and save the image\n",
    "def cropSave(src):\n",
    "    # reference global variables\n",
    "    global TopLeft, BottomRight\n",
    "    \n",
    "    # y, x\n",
    "    dst = src[TopLeft[0][1]:BottomRight[0][1], TopLeft[0][0]:BottomRight[0][0]]\n",
    "    \n",
    "    # save the image\n",
    "    cv2.imwrite(\"face.png\",dst)\n",
    "\n",
    "\n",
    "# function to draw rectangle\n",
    "def drawRectangle(action, x, y, flags, userdata):\n",
    "    # reference glovbal variables\n",
    "    global TopLeft, BottomRight\n",
    "    # action to be taken when left mouse button is pressed\n",
    "    if action == cv2.EVENT_LBUTTONDOWN:\n",
    "        TopLeft = [(x, y)]\n",
    "        # Mark the point\n",
    "        cv2.circle(source, TopLeft[0], 1, (255, 255, 0), 2, cv2.LINE_AA)\n",
    "    \n",
    "    # action to be taken when left mouse button is realeased\n",
    "    elif action == cv2.EVENT_LBUTTONUP:\n",
    "        BottomRight = [(x, y)]\n",
    "        # draw the rectangle\n",
    "        cv2.rectangle(source, TopLeft[0], BottomRight[0], (255, 255, 0), 2, cv2.LINE_AA)\n",
    "        \n",
    "        cv2.imshow(\"Window\", source)   \n",
    "    \n",
    "    \n",
    "source = cv2.imread(\"./sample.jpg\", 1)\n",
    "# Make a dummy image, will help to clear the drawing\n",
    "dummy = source.copy()\n",
    "cv2.namedWindow(\"Window\")\n",
    "# highgui function called when mouse event occurs\n",
    "cv2.setMouseCallback(\"Window\", drawRectangle)\n",
    "k = 0\n",
    "# loop while ESC character is not pressed\n",
    "while k != 27:\n",
    "    cv2.imshow(\"Window\", source)\n",
    "    cv2.putText(source, '''Choose the top left point, and drag''', \n",
    "                (10,30), cv2.FONT_HERSHEY_SIMPLEX, 0.5, (255, 255, 255), 1)\n",
    "    \n",
    "    cv2.putText(source, '''Press c to clear''', \n",
    "                (10,60), cv2.FONT_HERSHEY_SIMPLEX, 0.5, (255, 255, 255), 1)\n",
    "    \n",
    "    cv2.putText(source, '''Press ESC to save and exit''', \n",
    "                (10,90), cv2.FONT_HERSHEY_SIMPLEX, 0.5, (255, 255, 255), 1)\n",
    "    \n",
    "    k = cv2.waitKey(20) & 0xff\n",
    "    \n",
    "    # if c is pressed\n",
    "    if k == 99:\n",
    "        source = dummy.copy()\n",
    "\n",
    "if TopLeft != [] and BottomRight != []:\n",
    "    # crop and save the image\n",
    "    cropSave(dummy)         \n",
    "\n",
    "cv2.destroyAllWindows()"
   ]
  },
  {
   "cell_type": "code",
   "execution_count": 3,
   "metadata": {},
   "outputs": [],
   "source": [
    "cv2.destroyAllWindows()"
   ]
  },
  {
   "cell_type": "markdown",
   "metadata": {},
   "source": [
    "# Solution"
   ]
  },
  {
   "cell_type": "code",
   "execution_count": null,
   "metadata": {},
   "outputs": [
    {
     "ename": "error",
     "evalue": "OpenCV(4.2.0) /io/opencv/modules/imgcodecs/src/loadsave.cpp:715: error: (-215:Assertion failed) !_img.empty() in function 'imwrite'\n",
     "output_type": "error",
     "traceback": [
      "\u001b[0;31m---------------------------------------------------------------------------\u001b[0m",
      "\u001b[0;31merror\u001b[0m                                     Traceback (most recent call last)",
      "\u001b[0;32m<ipython-input-11-18c338edb927>\u001b[0m in \u001b[0;36mdrawSquare\u001b[0;34m(action, x, y, flags, userdata)\u001b[0m\n\u001b[1;32m     23\u001b[0m         \u001b[0mcv2\u001b[0m\u001b[0;34m.\u001b[0m\u001b[0mrectangle\u001b[0m\u001b[0;34m(\u001b[0m\u001b[0msource\u001b[0m\u001b[0;34m,\u001b[0m \u001b[0mtopleft\u001b[0m\u001b[0;34m[\u001b[0m\u001b[0;36m0\u001b[0m\u001b[0;34m]\u001b[0m\u001b[0;34m,\u001b[0m \u001b[0mbottomright\u001b[0m\u001b[0;34m[\u001b[0m\u001b[0;36m0\u001b[0m\u001b[0;34m]\u001b[0m\u001b[0;34m,\u001b[0m \u001b[0;34m(\u001b[0m\u001b[0;36m255\u001b[0m\u001b[0;34m,\u001b[0m\u001b[0;36m255\u001b[0m\u001b[0;34m,\u001b[0m\u001b[0;36m0\u001b[0m\u001b[0;34m)\u001b[0m\u001b[0;34m,\u001b[0m \u001b[0;36m2\u001b[0m\u001b[0;34m,\u001b[0m \u001b[0mcv2\u001b[0m\u001b[0;34m.\u001b[0m\u001b[0mLINE_AA\u001b[0m\u001b[0;34m)\u001b[0m\u001b[0;34m\u001b[0m\u001b[0;34m\u001b[0m\u001b[0m\n\u001b[1;32m     24\u001b[0m         cv2.imwrite(\"face.png\",source[topleft[0][1]:bottomright[0][1],\\\n\u001b[0;32m---> 25\u001b[0;31m             topleft[0][0]:bottomright[0][0]])\n\u001b[0m\u001b[1;32m     26\u001b[0m         \u001b[0mcv2\u001b[0m\u001b[0;34m.\u001b[0m\u001b[0mimshow\u001b[0m\u001b[0;34m(\u001b[0m\u001b[0;34m\"Window\"\u001b[0m\u001b[0;34m,\u001b[0m\u001b[0msource\u001b[0m\u001b[0;34m)\u001b[0m\u001b[0;34m\u001b[0m\u001b[0;34m\u001b[0m\u001b[0m\n\u001b[1;32m     27\u001b[0m \u001b[0;34m\u001b[0m\u001b[0m\n",
      "\u001b[0;31merror\u001b[0m: OpenCV(4.2.0) /io/opencv/modules/imgcodecs/src/loadsave.cpp:715: error: (-215:Assertion failed) !_img.empty() in function 'imwrite'\n"
     ]
    }
   ],
   "source": [
    "import cv2\n",
    "import math\n",
    " \n",
    "# Lists to store the points\n",
    "topleft=[]\n",
    "bottomright=[]\n",
    " \n",
    "def drawSquare(action, x, y, flags, userdata):\n",
    "    # Referencing global variables \n",
    "    global topleft, bottomright\n",
    "    # Action to be taken when left mouse button is pressed\n",
    "    if action==cv2.EVENT_LBUTTONDOWN:\n",
    "        topleft=[(x,y)]\n",
    "        # Mark the vertex\n",
    "        cv2.circle(source, topleft[0], 1, (255,255,0), 2, cv2.LINE_AA )\n",
    " \n",
    "    # Action to be taken when left mouse button is released\n",
    "    elif action==cv2.EVENT_LBUTTONUP:\n",
    "        bottomright=[(x,y)]\n",
    "        # Mark the vertex\n",
    "        cv2.circle(source, bottomright[0], 1, (255,255,0),2, cv2.LINE_AA )\n",
    "        # Draw the square\n",
    "        cv2.rectangle(source, topleft[0], bottomright[0], (255,255,0), 2, cv2.LINE_AA)\n",
    "        cv2.imwrite(\"face.png\",source[topleft[0][1]:bottomright[0][1],\\\n",
    "            topleft[0][0]:bottomright[0][0]])\n",
    "        cv2.imshow(\"Window\",source)\n",
    " \n",
    " \n",
    "source = cv2.imread(\"./sample.jpg\",1)\n",
    "# Make a dummy image, will be useful to clear the drawing\n",
    "dummy = source.copy()\n",
    "cv2.namedWindow(\"Window\")\n",
    "# highgui function called when mouse events occur\n",
    "cv2.setMouseCallback(\"Window\", drawSquare)\n",
    "k = 0\n",
    "# loop until escape character is pressed\n",
    "while k!=27 :\n",
    "    cv2.imshow(\"Window\", source)\n",
    "    cv2.putText(source,'''Choose top left corner, and drag, \n",
    "    Press ESC to exit and c to clear''' ,\n",
    "                (10,30), cv2.FONT_HERSHEY_SIMPLEX, \n",
    "                0.7,(255,255,255), 2 );\n",
    "    k = cv2.waitKey(20) & 0xFF\n",
    "    # Another way of cloning\n",
    "    if k==99:\n",
    "        source= dummy.copy()\n",
    "\n",
    "\n",
    "cv2.destroyAllWindows()"
   ]
  }
 ],
 "metadata": {
  "kernelspec": {
   "display_name": "Python 3",
   "language": "python",
   "name": "python3"
  },
  "language_info": {
   "codemirror_mode": {
    "name": "ipython",
    "version": 3
   },
   "file_extension": ".py",
   "mimetype": "text/x-python",
   "name": "python",
   "nbconvert_exporter": "python",
   "pygments_lexer": "ipython3",
   "version": "3.7.7"
  }
 },
 "nbformat": 4,
 "nbformat_minor": 4
}
