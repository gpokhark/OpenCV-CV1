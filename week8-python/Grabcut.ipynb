{
 "cells": [
  {
   "cell_type": "markdown",
   "metadata": {},
   "source": [
    "# <font style=\"color:rgb(50,120,229)\">Grabcut for Background Removal </font>\n",
    "In this notebook, we will describe the working of Grabcut in OpenCV with the help of an example.\n",
    "\n",
    "GrabCut is an interactive segmentation method. It is used to separate an image into a background and a foreground. Let’s see a typical way of using GrabCut interactively. "
   ]
  },
  {
   "cell_type": "markdown",
   "metadata": {},
   "source": [
    "# <font style=\"color:rgb(50,120,229)\">GrabCut in OpenCV</font>\n",
    "\n",
    "GrabCut is implemented in OpenCV using a function named [**`grabCut`**](https://docs.opencv.org/4.1.0/d7/d1b/group__imgproc__misc.html#ga909c1dda50efcbeaa3ce126be862b37f).Let us look at the usage. "
   ]
  },
  {
   "cell_type": "markdown",
   "metadata": {},
   "source": [
    "### <font style = \"color:rgb(8,133,37)\">Function Syntax</font>\n",
    "\n",
    "```python\n",
    "mask, bgdModel, fgdModel\t=\tcv.grabCut(\timg, mask, rect, bgdModel, fgdModel, iterCount[, mode]\t)\n",
    "```\n",
    "\n",
    "**Parameters**\n",
    "- **`img`**:\tInput 8-bit 3-channel image.\n",
    "- **`mask`**:\tInput/output 8-bit single-channel mask. The mask is initialized by the function when mode is set to GC_INIT_WITH_RECT. Its elements may have one of the GrabCutClasses.\n",
    "- **`rect`**:\tROI containing a segmented object. The pixels outside of the ROI are marked as \"obvious background\". The parameter is only used when mode==GC_INIT_WITH_RECT .\n",
    "- **`bgdModel`**:\tTemporary array for the background model. Do not modify it while you are processing the same image.\n",
    "- **`fgdModel`**:\tTemporary arrays for the foreground model. Do not modify it while you are processing the same image.\n",
    "- **`iterCount`**:\tNumber of iterations the algorithm should make before returning the result. Note that the result can be refined with further calls with mode==GC_INIT_WITH_MASK or mode==GC_EVAL .\n",
    "- **`mode`**:\tOperation mode that could be one of the GrabCutModes"
   ]
  },
  {
   "cell_type": "markdown",
   "metadata": {},
   "source": [
    "The code snippet shows the usage of the code. "
   ]
  },
  {
   "cell_type": "code",
   "execution_count": null,
   "metadata": {},
   "outputs": [],
   "source": [
    "\"\"\"\n",
    "===============================================================================\n",
    "Interactive Image Segmentation using GrabCut algorithm.\n",
    "\n",
    "\n",
    "USAGE:\n",
    "    python grabcut.py <filename>\n",
    "\"\"\""
   ]
  },
  {
   "cell_type": "markdown",
   "metadata": {},
   "source": [
    "## <font style=\"color:rgb(50,120,229)\">Functionality </font>\n",
    "Since it is an interactive application, we are using the mouse and keyboard to get inputs from the user and update the results.\n",
    "\n",
    "When you run the code, Two windows will show up,  one for input and one for output. Then follow these steps\n",
    "1. In input window, draw a rectangle around the object using the mouse. Then press 'n' to segment the object (once or a few times)\n",
    "1. For making further changes to the output,  you can press any of the keys below and scribble on the areas you want. Then again press 'n' for updating the output.\n",
    "\n",
    "    ### <font style=\"color:rgb(8,133,37)\">Select the mode </font>\n",
    "    - Key '0' - To select areas of sure background\n",
    "    - Key '1' - To select areas of sure foreground\n",
    "    - Key '2' - To select areas of probable background\n",
    "    - Key '3' - To select areas of probable foreground\n",
    "\n",
    "    ### <font style=\"color:rgb(8,133,37)\">Update </font>\n",
    "    - Key 'n' - To update the segmentation\n",
    "    - Key 'r' - To reset the setup\n",
    "    - Key 's' - To save the results\n",
    "    - Key 'Esc'- To Exit\n"
   ]
  },
  {
   "cell_type": "code",
   "execution_count": null,
   "metadata": {},
   "outputs": [],
   "source": [
    "import numpy as np\n",
    "import cv2\n",
    "import sys"
   ]
  },
  {
   "cell_type": "markdown",
   "metadata": {},
   "source": [
    "#### <font style = \"color:rgb(8,133,37)\">Variables defining the different colors used </font>"
   ]
  },
  {
   "cell_type": "code",
   "execution_count": null,
   "metadata": {},
   "outputs": [],
   "source": [
    "# Convention of defining color in opencv is BGR\n",
    "LIGHT_GREEN = [128, 255, 128]        # rectangle color\n",
    "LIGHT_RED = [128, 128, 255]         # PR BG\n",
    "BLUE = [255, 0, 0]        # rectangle color\n",
    "RED = [0, 0, 255]         # PR BG\n",
    "GREEN = [0, 255, 0]       # PR FG\n",
    "BLACK = [0, 0, 0]         # sure BG\n",
    "WHITE = [255, 255, 255]   # sure FG"
   ]
  },
  {
   "cell_type": "markdown",
   "metadata": {},
   "source": [
    "#### <font style = \"color:rgb(8,133,37)\">Variables defining the different modes</font>"
   ]
  },
  {
   "cell_type": "code",
   "execution_count": null,
   "metadata": {},
   "outputs": [],
   "source": [
    "# Creating Dictionary\n",
    "DRAW_BG = {'color' : RED,  'val' : 0}\n",
    "DRAW_FG = {'color' : GREEN,  'val' : 1}\n",
    "DRAW_PR_FG = {'color' : LIGHT_GREEN,  'val' : 3}\n",
    "DRAW_PR_BG = {'color' : LIGHT_RED,  'val' : 2}"
   ]
  },
  {
   "cell_type": "markdown",
   "metadata": {},
   "source": [
    "#### <font style = \"color:rgb(8,133,37)\">Variables defining the different flags and global variables</font>"
   ]
  },
  {
   "cell_type": "code",
   "execution_count": null,
   "metadata": {},
   "outputs": [],
   "source": [
    "# Setting up flags\n",
    "rect = (0, 0, 1, 1)\n",
    "drawing = False         # flag for drawing curves\n",
    "rectangle = False       # flag for drawing rect\n",
    "rect_over = False       # flag to check if rect drawn\n",
    "rect_or_mask = 100      # flag for selecting rect or mask mode\n",
    "value = DRAW_FG         # drawing initialized to FG\n",
    "thickness = 3           # brush thickness\n",
    "rect_not_done = True"
   ]
  },
  {
   "cell_type": "markdown",
   "metadata": {},
   "source": [
    "### <font style=\"color:rgb(8,133,37)\">Mouse Callback Function </font>\n",
    "We use the mouse for drawing the initial rectangle and then scribbling in later iterations. \n",
    "\n",
    "1. The first if-else loop monitors the mouse movements and draws the rectangle. It also keeps track of the points pressed by the user and passes the coordinates to the grabcut algorithm later.\n",
    "1. The second if-else loop keeps track of the mouse movements and whenever the mouse button is pressed, it updates the the `mask`.\n"
   ]
  },
  {
   "cell_type": "code",
   "execution_count": null,
   "metadata": {},
   "outputs": [],
   "source": [
    "# Application Function on mouse\n",
    "def onmouse(event, x, y, flags, param):\n",
    "    global img, img2, drawing, value, mask, rectangle, rect, rect_or_mask, ix, iy, rect_over,  rect_not_done\n",
    "\n",
    "    # Draw Rectangle\n",
    "    if (event == cv2.EVENT_LBUTTONDOWN) and rect_not_done:\n",
    "        rectangle = True\n",
    "        ix, iy = x, y\n",
    "\n",
    "    elif event == cv2.EVENT_MOUSEMOVE:\n",
    "        if rectangle == True:\n",
    "            img = img2.copy()\n",
    "            cv2.rectangle(img, (ix, iy), (x, y), BLUE, 2)\n",
    "            rect = (min(ix, x), min(iy, y), abs(ix-x), abs(iy-y))\n",
    "            rect_or_mask = 0\n",
    "\n",
    "    elif (event == cv2.EVENT_LBUTTONUP) and rect_not_done:\n",
    "        rectangle = False\n",
    "        rect_not_done = False\n",
    "        rect_over = True\n",
    "        cv2.rectangle(img, (ix, iy), (x, y), BLUE, 2)\n",
    "        rect = (min(ix, x), min(iy, y), abs(ix-x), abs(iy-y))\n",
    "        rect_or_mask = 0\n",
    "        print(\" Now press the key 'n' a few times until no further change \\n\")\n",
    "\n",
    "    # Draw touchup curves\n",
    "    if event == cv2.EVENT_LBUTTONDOWN:\n",
    "        if rect_over == False:\n",
    "            print(\"first draw rectangle \\n\")\n",
    "        else:\n",
    "            drawing = True\n",
    "            cv2.circle(img, (x, y), thickness, value['color'], -1)\n",
    "            cv2.circle(mask, (x, y), thickness, value['val'], -1)\n",
    "\n",
    "    elif event == cv2.EVENT_MOUSEMOVE:\n",
    "        if drawing == True:\n",
    "            cv2.circle(img, (x, y), thickness, value['color'], -1)\n",
    "            cv2.circle(mask, (x, y), thickness, value['val'], -1)\n",
    "\n",
    "    elif event == cv2.EVENT_LBUTTONUP:\n",
    "        if drawing == True:\n",
    "            drawing = False\n",
    "            cv2.circle(img, (x, y), thickness, value['color'], -1)\n",
    "            cv2.circle(mask, (x, y), thickness, value['val'], -1)"
   ]
  },
  {
   "cell_type": "markdown",
   "metadata": {},
   "source": [
    "### <font style=\"color:rgb(8,133,37)\">The main function </font>\n",
    "We read an image for performing grabcut background segmentation. Then we create the windows for input and output images and setup the mouse callback functions so that the output window is updated depending on the user input.\n",
    "\n",
    "In the above function, we discussed the mouse events. In this function, we will see how the keyboard events are handled.\n",
    "\n",
    "1. We first check for the mode to be used - It can be \n",
    "    - 0 : Background\n",
    "    - 1 : Foreground\n",
    "    - 2 : Probable Background\n",
    "    - 3 : Probable Background\n",
    "2. Next we check for keys `s` which saves the output image and key `r` which resets the `mask` and `output`.\n",
    "3. Next we check for the key `n` which means grabcut needs to be applied and the `output` need to be updated.\n",
    "4. Finally we merge the pixels which are marked as definitely foreground and probably foreground and update the `mask` and the `output`."
   ]
  },
  {
   "cell_type": "code",
   "execution_count": null,
   "metadata": {},
   "outputs": [],
   "source": [
    "if __name__ == '__main__':\n",
    "\n",
    "    # print documentation\n",
    "    print(__doc__)\n",
    "\n",
    "    # Loading images if image is given bu command line\n",
    "    if len(sys.argv) == 2:\n",
    "        filename = sys.argv[1] # Using file for image\n",
    "        print(\"Loading Image \\n\")\n",
    "    else:\n",
    "        print(\"No input image given,  so loading default image,  ../../data/images/hillary_clinton.jpg \\n\")\n",
    "        print(\"Correct Usage: python grabcut.py <filename> \\n\")\n",
    "        filename = '../data/images/hillary_clinton.jpg'\n",
    "\n",
    "    img = cv2.imread(filename)\n",
    "    img2 = img.copy()                               # a copy of original image\n",
    "    mask = np.zeros(img.shape[:2], dtype = np.uint8) # mask initialized to PR_BG\n",
    "    output = np.zeros(img.shape, np.uint8)           # output image to be shown\n",
    "\n",
    "    # input and output windows\n",
    "    cv2.namedWindow('output')\n",
    "    cv2.namedWindow('input')\n",
    "    cv2.setMouseCallback('input', onmouse)\n",
    "    cv2.moveWindow('input', img.shape[1]+10, 90)\n",
    "\n",
    "    print(\" Instructions: \\n\")\n",
    "    print(\" Draw a rectangle around the object using right mouse button \\n\")\n",
    "\n",
    "    while(1):\n",
    "\n",
    "        cv2.imshow('output', output)\n",
    "        cv2.imshow('input', img)\n",
    "        k = cv2.waitKey(1)\n",
    "\n",
    "        # key bindings\n",
    "        if k == 27:                                  # esc to exit\n",
    "            break\n",
    "        elif k == ord('0'):                          # BG drawing\n",
    "            print(\" Using Red color,  >mark background regions with left mouse button \\n\")\n",
    "            value = DRAW_BG\n",
    "        elif k == ord('1'):                          # FG drawing\n",
    "            print(\" Using Green color, >mark foreground regions with left mouse button \\n\")\n",
    "            value = DRAW_FG\n",
    "        elif k == ord('2'):                          # PR_BG drawing\n",
    "            print(\" Using Light Red color, >mark probable Background regions with left mouse button \\n\")\n",
    "            value = DRAW_PR_BG\n",
    "        elif k == ord('3'):                          # PR_FG drawing\n",
    "            print(\" Using Light Green color, >mark probable foreground regions with left mouse button \\n\")\n",
    "            value = DRAW_PR_FG\n",
    "\n",
    "        elif k == ord('s'):                          # save image\n",
    "            bar = np.zeros((img.shape[0], 5, 3), np.uint8)\n",
    "            res = np.hstack((img2, bar, img, bar, output))\n",
    "            cv2.imwrite('grabcut_output.png', res)\n",
    "            print(\" Result saved as image \\n\")\n",
    "\n",
    "        elif k == ord('r'):                          # reset everything\n",
    "            print(\"resetting \\n\")\n",
    "            rect = (0, 0, 1, 1)\n",
    "            drawing = False\n",
    "            rectangle = False\n",
    "            rect_or_mask = 100\n",
    "            rect_over = False\n",
    "            rect_not_done = True\n",
    "            value = DRAW_FG\n",
    "            img = img2.copy()\n",
    "            mask = np.zeros(img.shape[:2], dtype = np.uint8) # mask initialized to PR_BG\n",
    "            output = np.zeros(img.shape, np.uint8)    # output image to be shown\n",
    "            print(__doc__)\n",
    "\n",
    "        elif k == ord('n'):                         # segment the image\n",
    "            print(\"\"\" For finer touchups,  mark foreground and background after pressing keys 0-3\n",
    "            and again press 'n' \\n\"\"\")\n",
    "\n",
    "            if (rect_or_mask == 0):                 # grabcut with rect\n",
    "                bgdmodel = np.zeros((1, 65), np.float64)\n",
    "                fgdmodel = np.zeros((1, 65), np.float64)\n",
    "                cv2.grabCut(img2, mask, rect, bgdmodel, fgdmodel, 1, cv2.GC_INIT_WITH_RECT)\n",
    "                rect_or_mask = 1\n",
    "\n",
    "            elif rect_or_mask == 1:                 # grabcut with mask\n",
    "                bgdmodel = np.zeros((1, 65), np.float64)\n",
    "                fgdmodel = np.zeros((1, 65), np.float64)\n",
    "                cv2.grabCut(img2, mask, rect, bgdmodel, fgdmodel, 1, cv2.GC_INIT_WITH_MASK)\n",
    "\n",
    "        # Final mask is the union of definitely foreground and probably foreground\n",
    "        # mask such that all 1-pixels (cv2.GC_FGD) and 3-pixels (cv2.GC_PR_FGD) are put to 1 (ie foreground) and\n",
    "        # all rest are put to 0(ie background pixels)\n",
    "        mask2 = np.where((mask==1) + (mask==3), 255, 0).astype('uint8')\n",
    "\n",
    "        # Copy the region to output\n",
    "        output = cv2.bitwise_and(img2, img2, mask=mask2)\n",
    "\n",
    "    cv2.destroyAllWindows()"
   ]
  },
  {
   "cell_type": "markdown",
   "metadata": {},
   "source": [
    "Do try out the code with your own inputs. This application can be used to create image annotation tools for segmentation to create large datasets."
   ]
  }
 ],
 "metadata": {
  "kernelspec": {
   "display_name": "Python 3",
   "language": "python",
   "name": "python3"
  },
  "language_info": {
   "codemirror_mode": {
    "name": "ipython",
    "version": 3
   },
   "file_extension": ".py",
   "mimetype": "text/x-python",
   "name": "python",
   "nbconvert_exporter": "python",
   "pygments_lexer": "ipython3",
   "version": "3.7.1"
  }
 },
 "nbformat": 4,
 "nbformat_minor": 2
}
